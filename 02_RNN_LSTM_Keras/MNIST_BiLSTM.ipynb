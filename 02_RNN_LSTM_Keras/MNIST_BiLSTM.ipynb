{
 "cells": [
  {
   "cell_type": "markdown",
   "metadata": {},
   "source": [
    "# 加载包和定义参数"
   ]
  },
  {
   "cell_type": "code",
   "execution_count": 1,
   "metadata": {},
   "outputs": [],
   "source": [
    "from tensorflow import keras\n",
    "import mnist\n",
    "from keras.layers import Dense, LSTM, Bidirectional\n",
    "from keras.utils import to_categorical\n",
    "from keras.models import Sequential"
   ]
  },
  {
   "cell_type": "code",
   "execution_count": 2,
   "metadata": {},
   "outputs": [],
   "source": [
    "# parameters for LSTM\n",
    "nb_lstm_outputs = 30    # 输出神经元个数\n",
    "nb_time_steps = 28    # 时间序列的长度\n",
    "nb_input_vectors = 28    # 每个输入序列的向量维度"
   ]
  },
  {
   "cell_type": "markdown",
   "metadata": {},
   "source": [
    "# 数据预处理"
   ]
  },
  {
   "cell_type": "code",
   "execution_count": 3,
   "metadata": {},
   "outputs": [],
   "source": [
    "# data preprocessing\n",
    "x_train = mnist.train_images()\n",
    "y_train = mnist.train_labels()\n",
    "x_test = mnist.test_images()\n",
    "y_test = mnist.test_labels()"
   ]
  },
  {
   "cell_type": "code",
   "execution_count": 4,
   "metadata": {},
   "outputs": [],
   "source": [
    "# Nomalize the images\n",
    "x_train = (x_train / 255) - 0.5\n",
    "x_test = (x_test / 255) - 0.5"
   ]
  },
  {
   "cell_type": "code",
   "execution_count": 5,
   "metadata": {},
   "outputs": [],
   "source": [
    "# one_hot encoding\n",
    "y_train = to_categorical(y_train, num_classes=10)\n",
    "y_test = to_categorical(y_test, num_classes=10)"
   ]
  },
  {
   "cell_type": "markdown",
   "metadata": {},
   "source": [
    "# 搭建模型"
   ]
  },
  {
   "cell_type": "code",
   "execution_count": 7,
   "metadata": {},
   "outputs": [],
   "source": [
    "# building model\n",
    "model = Sequential()\n",
    "\n",
    "model.add(\n",
    "    Bidirectional(\n",
    "        LSTM(\n",
    "            units=nb_lstm_outputs, \n",
    "            return_sequences=True\n",
    "        ), \n",
    "        input_shape=(nb_time_steps, nb_input_vectors)\n",
    "    )\n",
    ")\n",
    "\n",
    "model.add(\n",
    "    Bidirectional(\n",
    "        LSTM(units=nb_lstm_outputs)\n",
    "    )\n",
    ")\n",
    "\n",
    "model.add(\n",
    "    Dense(\n",
    "        10, \n",
    "        activation='softmax'\n",
    "    )\n",
    ")"
   ]
  },
  {
   "cell_type": "markdown",
   "metadata": {},
   "source": [
    "# compile"
   ]
  },
  {
   "cell_type": "code",
   "execution_count": 8,
   "metadata": {},
   "outputs": [],
   "source": [
    "# compile:loss, optimizer, metrics\n",
    "model.compile(\n",
    "    loss='categorical_crossentropy',\n",
    "    optimizer='adam',\n",
    "    metrics=['accuracy']\n",
    ")"
   ]
  },
  {
   "cell_type": "markdown",
   "metadata": {},
   "source": [
    "# summary"
   ]
  },
  {
   "cell_type": "code",
   "execution_count": 9,
   "metadata": {},
   "outputs": [
    {
     "name": "stdout",
     "output_type": "stream",
     "text": [
      "_________________________________________________________________\n",
      "Layer (type)                 Output Shape              Param #   \n",
      "=================================================================\n",
      "bidirectional_1 (Bidirection (None, 28, 60)            14160     \n",
      "_________________________________________________________________\n",
      "bidirectional_2 (Bidirection (None, 60)                21840     \n",
      "_________________________________________________________________\n",
      "dense_2 (Dense)              (None, 10)                610       \n",
      "=================================================================\n",
      "Total params: 36,610\n",
      "Trainable params: 36,610\n",
      "Non-trainable params: 0\n",
      "_________________________________________________________________\n"
     ]
    }
   ],
   "source": [
    "model.summary()"
   ]
  },
  {
   "cell_type": "markdown",
   "metadata": {},
   "source": [
    "# train"
   ]
  },
  {
   "cell_type": "code",
   "execution_count": 10,
   "metadata": {},
   "outputs": [
    {
     "name": "stdout",
     "output_type": "stream",
     "text": [
      "Epoch 1/20\n",
      "60000/60000 [==============================] - 46s 767us/step - loss: 0.6845 - acc: 0.7782\n",
      "Epoch 2/20\n",
      "60000/60000 [==============================] - 48s 799us/step - loss: 0.1843 - acc: 0.9435\n",
      "Epoch 3/20\n",
      "60000/60000 [==============================] - 45s 751us/step - loss: 0.1241 - acc: 0.9627\n",
      "Epoch 4/20\n",
      "60000/60000 [==============================] - 45s 747us/step - loss: 0.0956 - acc: 0.9712\n",
      "Epoch 5/20\n",
      "60000/60000 [==============================] - 46s 766us/step - loss: 0.0806 - acc: 0.9754\n",
      "Epoch 6/20\n",
      "60000/60000 [==============================] - 46s 771us/step - loss: 0.0667 - acc: 0.9793\n",
      "Epoch 7/20\n",
      "60000/60000 [==============================] - 45s 754us/step - loss: 0.0584 - acc: 0.9820\n",
      "Epoch 8/20\n",
      "60000/60000 [==============================] - 44s 741us/step - loss: 0.0513 - acc: 0.98351s - loss: 0\n",
      "Epoch 9/20\n",
      "60000/60000 [==============================] - 45s 742us/step - loss: 0.0445 - acc: 0.9863\n",
      "Epoch 10/20\n",
      "60000/60000 [==============================] - 46s 767us/step - loss: 0.0419 - acc: 0.9874\n",
      "Epoch 11/20\n",
      "60000/60000 [==============================] - 45s 755us/step - loss: 0.0378 - acc: 0.9885\n",
      "Epoch 12/20\n",
      "60000/60000 [==============================] - 46s 758us/step - loss: 0.0332 - acc: 0.9894\n",
      "Epoch 13/20\n",
      "60000/60000 [==============================] - 45s 750us/step - loss: 0.0318 - acc: 0.9894\n",
      "Epoch 14/20\n",
      "60000/60000 [==============================] - 45s 756us/step - loss: 0.0279 - acc: 0.9911\n",
      "Epoch 15/20\n",
      "60000/60000 [==============================] - 45s 745us/step - loss: 0.0262 - acc: 0.99172s - loss:  - ETA: 0s - loss: 0.0262 - acc: 0.\n",
      "Epoch 16/20\n",
      "60000/60000 [==============================] - 45s 758us/step - loss: 0.0258 - acc: 0.9916\n",
      "Epoch 17/20\n",
      "60000/60000 [==============================] - 47s 791us/step - loss: 0.0226 - acc: 0.9923A: 2s \n",
      "Epoch 18/20\n",
      "60000/60000 [==============================] - 47s 791us/step - loss: 0.0223 - acc: 0.9930\n",
      "Epoch 19/20\n",
      "60000/60000 [==============================] - 46s 773us/step - loss: 0.0179 - acc: 0.9943\n",
      "Epoch 20/20\n",
      "60000/60000 [==============================] - 45s 747us/step - loss: 0.0199 - acc: 0.9935\n"
     ]
    },
    {
     "data": {
      "text/plain": [
       "<keras.callbacks.History at 0x1be82dc0438>"
      ]
     },
     "execution_count": 10,
     "metadata": {},
     "output_type": "execute_result"
    }
   ],
   "source": [
    "model.fit(\n",
    "    x_train,\n",
    "    y_train,\n",
    "    epochs=20,\n",
    "    batch_size=128,\n",
    "    verbose=1\n",
    ")"
   ]
  },
  {
   "cell_type": "markdown",
   "metadata": {},
   "source": [
    "# evaluate"
   ]
  },
  {
   "cell_type": "code",
   "execution_count": 11,
   "metadata": {},
   "outputs": [
    {
     "name": "stdout",
     "output_type": "stream",
     "text": [
      "10000/10000 [==============================] - 2s 250us/step\n",
      "[0.055307343754824254, 0.9838]\n"
     ]
    }
   ],
   "source": [
    "score = model.evaluate(x_test, y_test, batch_size=128, verbose=1)\n",
    "print(score)"
   ]
  },
  {
   "cell_type": "code",
   "execution_count": null,
   "metadata": {},
   "outputs": [],
   "source": []
  }
 ],
 "metadata": {
  "kernelspec": {
   "display_name": "Python 3",
   "language": "python",
   "name": "python3"
  },
  "language_info": {
   "codemirror_mode": {
    "name": "ipython",
    "version": 3
   },
   "file_extension": ".py",
   "mimetype": "text/x-python",
   "name": "python",
   "nbconvert_exporter": "python",
   "pygments_lexer": "ipython3",
   "version": "3.6.5"
  },
  "toc": {
   "base_numbering": 1,
   "nav_menu": {},
   "number_sections": true,
   "sideBar": true,
   "skip_h1_title": false,
   "title_cell": "Table of Contents",
   "title_sidebar": "Contents",
   "toc_cell": false,
   "toc_position": {},
   "toc_section_display": true,
   "toc_window_display": false
  },
  "varInspector": {
   "cols": {
    "lenName": 16,
    "lenType": 16,
    "lenVar": 40
   },
   "kernels_config": {
    "python": {
     "delete_cmd_postfix": "",
     "delete_cmd_prefix": "del ",
     "library": "var_list.py",
     "varRefreshCmd": "print(var_dic_list())"
    },
    "r": {
     "delete_cmd_postfix": ") ",
     "delete_cmd_prefix": "rm(",
     "library": "var_list.r",
     "varRefreshCmd": "cat(var_dic_list()) "
    }
   },
   "types_to_exclude": [
    "module",
    "function",
    "builtin_function_or_method",
    "instance",
    "_Feature"
   ],
   "window_display": false
  }
 },
 "nbformat": 4,
 "nbformat_minor": 2
}
